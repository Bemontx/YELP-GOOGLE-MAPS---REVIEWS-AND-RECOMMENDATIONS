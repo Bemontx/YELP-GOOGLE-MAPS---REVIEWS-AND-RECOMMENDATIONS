{
 "cells": [
  {
   "cell_type": "code",
   "execution_count": 64,
   "id": "b1b46822-e929-440a-908f-b55f509d7b1a",
   "metadata": {
    "tags": []
   },
   "outputs": [],
   "source": [
    "import pandas as pd\n",
    "import numpy as np\n",
    "import json\n",
    "import re\n",
    "import reverse_geocoder as rg"
   ]
  },
  {
   "cell_type": "code",
   "execution_count": 58,
   "id": "ca8a5a75",
   "metadata": {},
   "outputs": [],
   "source": [
    "df = pd.read_pickle('./Data/business.pkl')"
   ]
  },
  {
   "cell_type": "code",
   "execution_count": 14,
   "id": "c76fcf3c",
   "metadata": {},
   "outputs": [
    {
     "name": "stdout",
     "output_type": "stream",
     "text": [
      "<class 'pandas.core.frame.DataFrame'>\n",
      "Index: 150346 entries, 0 to 150345\n",
      "Data columns (total 28 columns):\n",
      " #   Column        Non-Null Count   Dtype \n",
      "---  ------        --------------   ----- \n",
      " 0   business_id   150346 non-null  object\n",
      " 1   name          150346 non-null  object\n",
      " 2   address       150346 non-null  object\n",
      " 3   city          150346 non-null  object\n",
      " 4   state         150343 non-null  object\n",
      " 5   postal_code   150346 non-null  object\n",
      " 6   latitude      150346 non-null  object\n",
      " 7   longitude     150346 non-null  object\n",
      " 8   stars         150346 non-null  object\n",
      " 9   review_count  150346 non-null  object\n",
      " 10  is_open       150346 non-null  object\n",
      " 11  attributes    136602 non-null  object\n",
      " 12  categories    150243 non-null  object\n",
      " 13  hours         127123 non-null  object\n",
      " 14  business_id   5 non-null       object\n",
      " 15  name          5 non-null       object\n",
      " 16  address       5 non-null       object\n",
      " 17  city          5 non-null       object\n",
      " 18  state         5 non-null       object\n",
      " 19  postal_code   5 non-null       object\n",
      " 20  latitude      5 non-null       object\n",
      " 21  longitude     5 non-null       object\n",
      " 22  stars         5 non-null       object\n",
      " 23  review_count  5 non-null       object\n",
      " 24  is_open       5 non-null       object\n",
      " 25  attributes    5 non-null       object\n",
      " 26  categories    5 non-null       object\n",
      " 27  hours         5 non-null       object\n",
      "dtypes: object(28)\n",
      "memory usage: 33.3+ MB\n"
     ]
    }
   ],
   "source": [
    "df.info()"
   ]
  },
  {
   "cell_type": "code",
   "execution_count": 59,
   "id": "77aef378",
   "metadata": {},
   "outputs": [],
   "source": [
    "df = df.loc[:,~df.columns.duplicated()]"
   ]
  },
  {
   "cell_type": "code",
   "execution_count": 17,
   "id": "86c5440f",
   "metadata": {},
   "outputs": [
    {
     "data": {
      "text/html": [
       "<div>\n",
       "<style scoped>\n",
       "    .dataframe tbody tr th:only-of-type {\n",
       "        vertical-align: middle;\n",
       "    }\n",
       "\n",
       "    .dataframe tbody tr th {\n",
       "        vertical-align: top;\n",
       "    }\n",
       "\n",
       "    .dataframe thead th {\n",
       "        text-align: right;\n",
       "    }\n",
       "</style>\n",
       "<table border=\"1\" class=\"dataframe\">\n",
       "  <thead>\n",
       "    <tr style=\"text-align: right;\">\n",
       "      <th></th>\n",
       "      <th>business_id</th>\n",
       "      <th>name</th>\n",
       "      <th>address</th>\n",
       "      <th>city</th>\n",
       "      <th>state</th>\n",
       "      <th>postal_code</th>\n",
       "      <th>latitude</th>\n",
       "      <th>longitude</th>\n",
       "      <th>stars</th>\n",
       "      <th>review_count</th>\n",
       "      <th>is_open</th>\n",
       "      <th>attributes</th>\n",
       "      <th>categories</th>\n",
       "      <th>hours</th>\n",
       "    </tr>\n",
       "  </thead>\n",
       "  <tbody>\n",
       "    <tr>\n",
       "      <th>0</th>\n",
       "      <td>Pns2l4eNsfO8kk83dixA6A</td>\n",
       "      <td>Abby Rappoport, LAC, CMQ</td>\n",
       "      <td>1616 Chapala St, Ste 2</td>\n",
       "      <td>Santa Barbara</td>\n",
       "      <td>NaN</td>\n",
       "      <td>93101</td>\n",
       "      <td>34.426679</td>\n",
       "      <td>-119.711197</td>\n",
       "      <td>5.0</td>\n",
       "      <td>7</td>\n",
       "      <td>0</td>\n",
       "      <td>{'ByAppointmentOnly': 'True'}</td>\n",
       "      <td>Doctors, Traditional Chinese Medicine, Naturop...</td>\n",
       "      <td>None</td>\n",
       "    </tr>\n",
       "    <tr>\n",
       "      <th>1</th>\n",
       "      <td>mpf3x-BjTdTEA3yCZrAYPw</td>\n",
       "      <td>The UPS Store</td>\n",
       "      <td>87 Grasso Plaza Shopping Center</td>\n",
       "      <td>Affton</td>\n",
       "      <td>NaN</td>\n",
       "      <td>63123</td>\n",
       "      <td>38.551126</td>\n",
       "      <td>-90.335695</td>\n",
       "      <td>3.0</td>\n",
       "      <td>15</td>\n",
       "      <td>1</td>\n",
       "      <td>{'BusinessAcceptsCreditCards': 'True'}</td>\n",
       "      <td>Shipping Centers, Local Services, Notaries, Ma...</td>\n",
       "      <td>{'Monday': '0:0-0:0', 'Tuesday': '8:0-18:30', ...</td>\n",
       "    </tr>\n",
       "    <tr>\n",
       "      <th>2</th>\n",
       "      <td>tUFrWirKiKi_TAnsVWINQQ</td>\n",
       "      <td>Target</td>\n",
       "      <td>5255 E Broadway Blvd</td>\n",
       "      <td>Tucson</td>\n",
       "      <td>NaN</td>\n",
       "      <td>85711</td>\n",
       "      <td>32.223236</td>\n",
       "      <td>-110.880452</td>\n",
       "      <td>3.5</td>\n",
       "      <td>22</td>\n",
       "      <td>0</td>\n",
       "      <td>{'BikeParking': 'True', 'BusinessAcceptsCredit...</td>\n",
       "      <td>Department Stores, Shopping, Fashion, Home &amp; G...</td>\n",
       "      <td>{'Monday': '8:0-22:0', 'Tuesday': '8:0-22:0', ...</td>\n",
       "    </tr>\n",
       "    <tr>\n",
       "      <th>3</th>\n",
       "      <td>MTSW4McQd7CbVtyjqoe9mw</td>\n",
       "      <td>St Honore Pastries</td>\n",
       "      <td>935 Race St</td>\n",
       "      <td>Philadelphia</td>\n",
       "      <td>CA</td>\n",
       "      <td>19107</td>\n",
       "      <td>39.955505</td>\n",
       "      <td>-75.155564</td>\n",
       "      <td>4.0</td>\n",
       "      <td>80</td>\n",
       "      <td>1</td>\n",
       "      <td>{'RestaurantsDelivery': 'False', 'OutdoorSeati...</td>\n",
       "      <td>Restaurants, Food, Bubble Tea, Coffee &amp; Tea, B...</td>\n",
       "      <td>{'Monday': '7:0-20:0', 'Tuesday': '7:0-20:0', ...</td>\n",
       "    </tr>\n",
       "    <tr>\n",
       "      <th>4</th>\n",
       "      <td>mWMc6_wTdE0EUBKIGXDVfA</td>\n",
       "      <td>Perkiomen Valley Brewery</td>\n",
       "      <td>101 Walnut St</td>\n",
       "      <td>Green Lane</td>\n",
       "      <td>MO</td>\n",
       "      <td>18054</td>\n",
       "      <td>40.338183</td>\n",
       "      <td>-75.471659</td>\n",
       "      <td>4.5</td>\n",
       "      <td>13</td>\n",
       "      <td>1</td>\n",
       "      <td>{'BusinessAcceptsCreditCards': 'True', 'Wheelc...</td>\n",
       "      <td>Brewpubs, Breweries, Food</td>\n",
       "      <td>{'Wednesday': '14:0-22:0', 'Thursday': '16:0-2...</td>\n",
       "    </tr>\n",
       "  </tbody>\n",
       "</table>\n",
       "</div>"
      ],
      "text/plain": [
       "              business_id                      name  \\\n",
       "0  Pns2l4eNsfO8kk83dixA6A  Abby Rappoport, LAC, CMQ   \n",
       "1  mpf3x-BjTdTEA3yCZrAYPw             The UPS Store   \n",
       "2  tUFrWirKiKi_TAnsVWINQQ                    Target   \n",
       "3  MTSW4McQd7CbVtyjqoe9mw        St Honore Pastries   \n",
       "4  mWMc6_wTdE0EUBKIGXDVfA  Perkiomen Valley Brewery   \n",
       "\n",
       "                           address           city state postal_code  \\\n",
       "0           1616 Chapala St, Ste 2  Santa Barbara   NaN       93101   \n",
       "1  87 Grasso Plaza Shopping Center         Affton   NaN       63123   \n",
       "2             5255 E Broadway Blvd         Tucson   NaN       85711   \n",
       "3                      935 Race St   Philadelphia    CA       19107   \n",
       "4                    101 Walnut St     Green Lane    MO       18054   \n",
       "\n",
       "    latitude   longitude stars review_count is_open  \\\n",
       "0  34.426679 -119.711197   5.0            7       0   \n",
       "1  38.551126  -90.335695   3.0           15       1   \n",
       "2  32.223236 -110.880452   3.5           22       0   \n",
       "3  39.955505  -75.155564   4.0           80       1   \n",
       "4  40.338183  -75.471659   4.5           13       1   \n",
       "\n",
       "                                          attributes  \\\n",
       "0                      {'ByAppointmentOnly': 'True'}   \n",
       "1             {'BusinessAcceptsCreditCards': 'True'}   \n",
       "2  {'BikeParking': 'True', 'BusinessAcceptsCredit...   \n",
       "3  {'RestaurantsDelivery': 'False', 'OutdoorSeati...   \n",
       "4  {'BusinessAcceptsCreditCards': 'True', 'Wheelc...   \n",
       "\n",
       "                                          categories  \\\n",
       "0  Doctors, Traditional Chinese Medicine, Naturop...   \n",
       "1  Shipping Centers, Local Services, Notaries, Ma...   \n",
       "2  Department Stores, Shopping, Fashion, Home & G...   \n",
       "3  Restaurants, Food, Bubble Tea, Coffee & Tea, B...   \n",
       "4                          Brewpubs, Breweries, Food   \n",
       "\n",
       "                                               hours  \n",
       "0                                               None  \n",
       "1  {'Monday': '0:0-0:0', 'Tuesday': '8:0-18:30', ...  \n",
       "2  {'Monday': '8:0-22:0', 'Tuesday': '8:0-22:0', ...  \n",
       "3  {'Monday': '7:0-20:0', 'Tuesday': '7:0-20:0', ...  \n",
       "4  {'Wednesday': '14:0-22:0', 'Thursday': '16:0-2...  "
      ]
     },
     "execution_count": 17,
     "metadata": {},
     "output_type": "execute_result"
    }
   ],
   "source": [
    "df.head()"
   ]
  },
  {
   "cell_type": "code",
   "execution_count": 62,
   "id": "437f1f6d-75e0-45ee-b0c9-0c27539c3f04",
   "metadata": {
    "tags": []
   },
   "outputs": [
    {
     "data": {
      "text/plain": [
       "array(['Doctors, Traditional Chinese Medicine, Naturopathic/Holistic, Acupuncture, Health & Medical, Nutritionists',\n",
       "       'Shipping Centers, Local Services, Notaries, Mailbox Centers, Printing Services',\n",
       "       'Department Stores, Shopping, Fashion, Home & Garden, Electronics, Furniture Stores',\n",
       "       ...,\n",
       "       'Shopping, Jewelry, Piercing, Toy Stores, Beauty & Spas, Accessories, Fashion',\n",
       "       'Fitness/Exercise Equipment, Eyewear & Opticians, Shopping, Sporting Goods, Bikes',\n",
       "       'Beauty & Spas, Permanent Makeup, Piercing, Tattoo'], dtype=object)"
      ]
     },
     "execution_count": 62,
     "metadata": {},
     "output_type": "execute_result"
    }
   ],
   "source": [
    "df['categories'].unique()"
   ]
  },
  {
   "cell_type": "markdown",
   "id": "cd0b55bf",
   "metadata": {},
   "source": [
    "### Asignacion Estados por coordenadas"
   ]
  },
  {
   "cell_type": "code",
   "execution_count": 66,
   "id": "5b68c06e",
   "metadata": {},
   "outputs": [],
   "source": [
    "df['latitude'] = pd.to_numeric(df['latitude'])\n",
    "df['longitude'] = pd.to_numeric(df['longitude'])"
   ]
  },
  {
   "cell_type": "code",
   "execution_count": 67,
   "id": "3993edcc",
   "metadata": {},
   "outputs": [
    {
     "name": "stdout",
     "output_type": "stream",
     "text": [
      "Loading formatted geocoded file...\n"
     ]
    }
   ],
   "source": [
    "coordinates = list(zip(df['latitude'], df['longitude']))\n",
    "results = rg.search(coordinates)"
   ]
  },
  {
   "cell_type": "code",
   "execution_count": 68,
   "id": "b184f12a",
   "metadata": {},
   "outputs": [],
   "source": [
    "states = [result['admin1'] for result in results]\n",
    "df['states'] = states"
   ]
  },
  {
   "cell_type": "code",
   "execution_count": 71,
   "id": "a10a744b",
   "metadata": {},
   "outputs": [],
   "source": [
    "df.drop('state', axis=1, inplace=True)"
   ]
  },
  {
   "cell_type": "markdown",
   "id": "0f96af8e",
   "metadata": {},
   "source": [
    "### Categorias Restaurant - Hotels"
   ]
  },
  {
   "cell_type": "code",
   "execution_count": 77,
   "id": "f46775c2",
   "metadata": {},
   "outputs": [],
   "source": [
    "df['categories'].fillna('', inplace=True)\n",
    "\n",
    "df = df[df['categories'].str.contains('restaurant|restaurants|hotel|hotels', case=False)]"
   ]
  },
  {
   "cell_type": "code",
   "execution_count": 87,
   "id": "2305496f-e800-4126-8100-a48f7bec3f8a",
   "metadata": {
    "tags": []
   },
   "outputs": [
    {
     "data": {
      "text/html": [
       "<div>\n",
       "<style scoped>\n",
       "    .dataframe tbody tr th:only-of-type {\n",
       "        vertical-align: middle;\n",
       "    }\n",
       "\n",
       "    .dataframe tbody tr th {\n",
       "        vertical-align: top;\n",
       "    }\n",
       "\n",
       "    .dataframe thead th {\n",
       "        text-align: right;\n",
       "    }\n",
       "</style>\n",
       "<table border=\"1\" class=\"dataframe\">\n",
       "  <thead>\n",
       "    <tr style=\"text-align: right;\">\n",
       "      <th></th>\n",
       "      <th>business_id</th>\n",
       "      <th>name</th>\n",
       "      <th>address</th>\n",
       "      <th>city</th>\n",
       "      <th>postal_code</th>\n",
       "      <th>latitude</th>\n",
       "      <th>longitude</th>\n",
       "      <th>stars</th>\n",
       "      <th>review_count</th>\n",
       "      <th>is_open</th>\n",
       "      <th>attributes</th>\n",
       "      <th>categories</th>\n",
       "      <th>hours</th>\n",
       "      <th>states</th>\n",
       "    </tr>\n",
       "  </thead>\n",
       "  <tbody>\n",
       "    <tr>\n",
       "      <th>137588</th>\n",
       "      <td>SUL_XDzGnnccUgHqnix1Ng</td>\n",
       "      <td>The Slider House</td>\n",
       "      <td>1907 Division St</td>\n",
       "      <td>Nashville</td>\n",
       "      <td>37203</td>\n",
       "      <td>36.149811</td>\n",
       "      <td>-86.796336</td>\n",
       "      <td>3.5</td>\n",
       "      <td>245</td>\n",
       "      <td>1</td>\n",
       "      <td>{'Caters': 'True', 'WiFi': ''free'', 'Business...</td>\n",
       "      <td>American (New), Food, Musicians, Sports Bars, ...</td>\n",
       "      <td>{'Monday': '11:0-0:0', 'Tuesday': '11:0-0:0', ...</td>\n",
       "      <td>Tennessee</td>\n",
       "    </tr>\n",
       "    <tr>\n",
       "      <th>70272</th>\n",
       "      <td>w9WLlcY_mziJ6qAB6WtpsA</td>\n",
       "      <td>The Flying V Bar &amp; Grill</td>\n",
       "      <td>7000 N Resort Dr</td>\n",
       "      <td>Tucson</td>\n",
       "      <td>85750</td>\n",
       "      <td>32.327823</td>\n",
       "      <td>-110.850591</td>\n",
       "      <td>4.0</td>\n",
       "      <td>152</td>\n",
       "      <td>1</td>\n",
       "      <td>{'RestaurantsGoodForGroups': 'True', 'Caters':...</td>\n",
       "      <td>Restaurants, Hotels, American (Traditional), N...</td>\n",
       "      <td>{'Wednesday': '17:0-21:0', 'Thursday': '17:0-2...</td>\n",
       "      <td>Arizona</td>\n",
       "    </tr>\n",
       "    <tr>\n",
       "      <th>23405</th>\n",
       "      <td>bSehfDoKVeCXIcwcFwX38w</td>\n",
       "      <td>Dumpling House</td>\n",
       "      <td>925 Arch St</td>\n",
       "      <td>Philadelphia</td>\n",
       "      <td>19107</td>\n",
       "      <td>39.953814</td>\n",
       "      <td>-75.155838</td>\n",
       "      <td>3.5</td>\n",
       "      <td>18</td>\n",
       "      <td>0</td>\n",
       "      <td>{'OutdoorSeating': 'False', 'Ambience': '{'tou...</td>\n",
       "      <td>Asian Fusion, Restaurants</td>\n",
       "      <td>{'Monday': '10:30-22:30', 'Tuesday': '10:30-22...</td>\n",
       "      <td>Pennsylvania</td>\n",
       "    </tr>\n",
       "    <tr>\n",
       "      <th>112070</th>\n",
       "      <td>uR8Ew5NDKj2ZPVPv-3EYgg</td>\n",
       "      <td>Domino's Pizza</td>\n",
       "      <td>11224 Boyette Rd</td>\n",
       "      <td>Riverview</td>\n",
       "      <td>33569</td>\n",
       "      <td>27.854320</td>\n",
       "      <td>-82.316849</td>\n",
       "      <td>2.0</td>\n",
       "      <td>46</td>\n",
       "      <td>1</td>\n",
       "      <td>{'RestaurantsPriceRange2': '1', 'GoodForKids':...</td>\n",
       "      <td>Sandwiches, Restaurants, Chicken Wings, Pizza</td>\n",
       "      <td>{'Monday': '10:0-0:0', 'Tuesday': '10:0-0:0', ...</td>\n",
       "      <td>Florida</td>\n",
       "    </tr>\n",
       "    <tr>\n",
       "      <th>35768</th>\n",
       "      <td>DKcFxSfjLvSXRB9rOKE8jw</td>\n",
       "      <td>KFC</td>\n",
       "      <td>9260 Ellerslie Road SW</td>\n",
       "      <td>Edmonton</td>\n",
       "      <td>T6X 0K6</td>\n",
       "      <td>53.425397</td>\n",
       "      <td>-113.476620</td>\n",
       "      <td>1.5</td>\n",
       "      <td>9</td>\n",
       "      <td>1</td>\n",
       "      <td>{'HasTV': 'False', 'RestaurantsPriceRange2': '...</td>\n",
       "      <td>Fast Food, Mexican, Restaurants, American (Tra...</td>\n",
       "      <td>{'Monday': '10:30-23:30', 'Tuesday': '10:30-23...</td>\n",
       "      <td>Alberta</td>\n",
       "    </tr>\n",
       "  </tbody>\n",
       "</table>\n",
       "</div>"
      ],
      "text/plain": [
       "                   business_id                      name  \\\n",
       "137588  SUL_XDzGnnccUgHqnix1Ng          The Slider House   \n",
       "70272   w9WLlcY_mziJ6qAB6WtpsA  The Flying V Bar & Grill   \n",
       "23405   bSehfDoKVeCXIcwcFwX38w            Dumpling House   \n",
       "112070  uR8Ew5NDKj2ZPVPv-3EYgg            Domino's Pizza   \n",
       "35768   DKcFxSfjLvSXRB9rOKE8jw                       KFC   \n",
       "\n",
       "                       address          city postal_code   latitude  \\\n",
       "137588        1907 Division St     Nashville       37203  36.149811   \n",
       "70272         7000 N Resort Dr        Tucson       85750  32.327823   \n",
       "23405              925 Arch St  Philadelphia       19107  39.953814   \n",
       "112070        11224 Boyette Rd     Riverview       33569  27.854320   \n",
       "35768   9260 Ellerslie Road SW      Edmonton     T6X 0K6  53.425397   \n",
       "\n",
       "         longitude stars review_count is_open  \\\n",
       "137588  -86.796336   3.5          245       1   \n",
       "70272  -110.850591   4.0          152       1   \n",
       "23405   -75.155838   3.5           18       0   \n",
       "112070  -82.316849   2.0           46       1   \n",
       "35768  -113.476620   1.5            9       1   \n",
       "\n",
       "                                               attributes  \\\n",
       "137588  {'Caters': 'True', 'WiFi': ''free'', 'Business...   \n",
       "70272   {'RestaurantsGoodForGroups': 'True', 'Caters':...   \n",
       "23405   {'OutdoorSeating': 'False', 'Ambience': '{'tou...   \n",
       "112070  {'RestaurantsPriceRange2': '1', 'GoodForKids':...   \n",
       "35768   {'HasTV': 'False', 'RestaurantsPriceRange2': '...   \n",
       "\n",
       "                                               categories  \\\n",
       "137588  American (New), Food, Musicians, Sports Bars, ...   \n",
       "70272   Restaurants, Hotels, American (Traditional), N...   \n",
       "23405                           Asian Fusion, Restaurants   \n",
       "112070      Sandwiches, Restaurants, Chicken Wings, Pizza   \n",
       "35768   Fast Food, Mexican, Restaurants, American (Tra...   \n",
       "\n",
       "                                                    hours        states  \n",
       "137588  {'Monday': '11:0-0:0', 'Tuesday': '11:0-0:0', ...     Tennessee  \n",
       "70272   {'Wednesday': '17:0-21:0', 'Thursday': '17:0-2...       Arizona  \n",
       "23405   {'Monday': '10:30-22:30', 'Tuesday': '10:30-22...  Pennsylvania  \n",
       "112070  {'Monday': '10:0-0:0', 'Tuesday': '10:0-0:0', ...       Florida  \n",
       "35768   {'Monday': '10:30-23:30', 'Tuesday': '10:30-23...       Alberta  "
      ]
     },
     "execution_count": 87,
     "metadata": {},
     "output_type": "execute_result"
    }
   ],
   "source": [
    "df.sample(5)"
   ]
  },
  {
   "cell_type": "markdown",
   "id": "a9e330cc",
   "metadata": {},
   "source": [
    "## Asignacion de categorias y simplificar la data"
   ]
  },
  {
   "cell_type": "code",
   "execution_count": 89,
   "id": "be72c4e9",
   "metadata": {},
   "outputs": [],
   "source": [
    "keyword_category_mapping = {\n",
    "    'Barbeque': 'Restaurant American Food Nightlife - Dance Clubs',\n",
    "    '(New)': 'Restaurant American Food Nightlife - Dance Clubs',\n",
    "    'Thai': 'Restaurant Thai',\n",
    "    'Colombian': 'Restaurant Colombian',\n",
    "    'Peruvian': 'Restaurant Peruvian',\n",
    "    'Street': ' Food Street',\n",
    "    'Mediterranean': 'Restaurant Mediterranean - Middle Eastern',\n",
    "    'Indian': 'Restaurant Indian - Food Pakistani',\n",
    "    'Ice Cream': 'Restaurant Ice Cream & Frozen Yogurt',\n",
    "    'Vietnamese': 'Restaurant Vietnamese',\n",
    "    'Bakeries': 'Restaurant Coffee & Tea',\n",
    "    'Coffee': 'Restaurant Coffee & Tea',\n",
    "    'Brazilian': 'Restaurant Brazilian Steakhouses',\n",
    "    'Chicken': 'Restaurant Chicken Wings - Fast Food',\n",
    "    'Vegetarian': 'Restaurant Vegetarian Traditional',\n",
    "    'Japanese': 'Restaurant Japanese',\n",
    "    'Sandwiches': 'Restaurant Sandwiches Fast Food',\n",
    "    'Nightlife': 'Restaurant American Food Nightlife - Dance Clubs',\n",
    "    'Greek': 'Restaurant Greek Modern Europe',\n",
    "    'Breakfast & Brunch': 'Restaurant Breakfast & Brunch American',\n",
    "    'Italian': 'Restaurant Italian',\n",
    "    'Cafes': 'Restaurant Coffee & Tea',\n",
    "    'Burgers':  'Restaurant Burgers Fast Food',\n",
    "    'Chinese': 'Restaurant Chinese',\n",
    "    'Pizza': 'Restaurant Pizza Fast Food',\n",
    "    'Pet Stores': 'Restaurant Friendly Pets',\n",
    "    'Event Planning & Services': 'Restaurant Event Planning & Services',\n",
    "    'American': 'Restaurant Breakfast & Brunch American',\n",
    "    'Local Flavor':'Restaurant Breakfast & Brunch American',\n",
    "    'Cheesesteaks': 'Restaurant Cheesesteaks',\n",
    "    'Hot Dogs': 'Restaurant  Hot Dogs  Fast Food',\n",
    "    'Caribbean': 'Restaurant Caribbean', \n",
    "    'Asian': 'Restaurant Asian',\n",
    "    'Korean': 'Restaurant Korean',\n",
    "    'Wine': 'Restaurant American Food Nightlife - Dance Clubs',\n",
    "    'Breweries': 'Restaurant American Food Nightlife - Dance Clubs',\n",
    "    'Southern': 'Restaurant Southern',\n",
    "    'Filipino': 'Restaurant Filipino',\n",
    "    'Comfort': 'Restaurant American Food Nightlife - Dance Clubs',\n",
    "    'Venezuelan': 'Restaurant Venezuelan',\n",
    "    'Salad': 'Restaurant American Food Nightlife - Dance Clubs',\n",
    "    'Cafeteria': 'Restaurant Coffee & Tea',\n",
    "    'Fish': 'Restaurant Fish & Seafood',\n",
    "    'Seafood': 'Restaurant Seafood',\n",
    "    'Creperies': 'Restaurant Creperies',\n",
    "    'Juice Bars & Smoothies': 'Restaurant Juice Bars & Smoothies',\n",
    "    'Donuts': 'Restaurant Coffee & Tea',\n",
    "    'Hawaiian': 'Restaurant Hawaiian',\n",
    "    'Mexican': 'Restaurant Mexican',\n",
    "    'Grocery': 'Food Ethnic International',\n",
    "    'Cuban': 'Restaurant Cuban',\n",
    "    'Sushi': 'Restaurant Japanese',\n",
    "    'Afghan': 'Restaurant Indian - Food Pakistani',\n",
    "    'British': 'Restaurant Greek Modern Europe',\n",
    "    'Cheese': 'Restaurant Cheesesteaks',\n",
    "    'Middle Eastern': 'Restaurant Middle Eastern'\n",
    "}"
   ]
  },
  {
   "cell_type": "code",
   "execution_count": 90,
   "id": "55834d11",
   "metadata": {},
   "outputs": [
    {
     "name": "stdout",
     "output_type": "stream",
     "text": [
      "Total de filas con 'Barbeque': 1694\n",
      "Total de filas con '(New)': 6216\n",
      "Total de filas con 'Thai': 951\n"
     ]
    },
    {
     "name": "stderr",
     "output_type": "stream",
     "text": [
      "/tmp/ipykernel_22421/1774109774.py:2: UserWarning: This pattern is interpreted as a regular expression, and has match groups. To actually get the groups, use str.extract.\n",
      "  keyword_mask = df['categories'].str.contains(keyword, case=False)\n"
     ]
    },
    {
     "name": "stdout",
     "output_type": "stream",
     "text": [
      "Total de filas con 'Colombian': 64\n",
      "Total de filas con 'Peruvian': 77\n",
      "Total de filas con 'Street': 213\n",
      "Total de filas con 'Mediterranean': 1090\n",
      "Total de filas con 'Indian': 791\n",
      "Total de filas con 'Ice Cream': 988\n",
      "Total de filas con 'Vietnamese': 736\n",
      "Total de filas con 'Bakeries': 1654\n",
      "Total de filas con 'Coffee': 4731\n",
      "Total de filas con 'Brazilian': 62\n",
      "Total de filas con 'Chicken': 2856\n",
      "Total de filas con 'Vegetarian': 542\n",
      "Total de filas con 'Japanese': 1548\n",
      "Total de filas con 'Sandwiches': 4838\n",
      "Total de filas con 'Nightlife': 12472\n",
      "Total de filas con 'Greek': 252\n",
      "Total de filas con 'Breakfast & Brunch': 2183\n",
      "Total de filas con 'Italian': 2245\n",
      "Total de filas con 'Cafes': 413\n",
      "Total de filas con 'Burgers': 1733\n",
      "Total de filas con 'Chinese': 2313\n",
      "Total de filas con 'Pizza': 2449\n",
      "Total de filas con 'Pet Stores': 5\n",
      "Total de filas con 'Event Planning & Services': 3502\n",
      "Total de filas con 'American': 15963\n",
      "Total de filas con 'Local Flavor': 143\n",
      "Total de filas con 'Cheesesteaks': 39\n",
      "Total de filas con 'Hot Dogs': 115\n",
      "Total de filas con 'Caribbean': 237\n",
      "Total de filas con 'Asian': 254\n",
      "Total de filas con 'Korean': 121\n",
      "Total de filas con 'Wine': 148\n",
      "Total de filas con 'Breweries': 28\n",
      "Total de filas con 'Southern': 161\n",
      "Total de filas con 'Filipino': 47\n",
      "Total de filas con 'Comfort': 29\n",
      "Total de filas con 'Venezuelan': 0\n",
      "Total de filas con 'Salad': 185\n",
      "Total de filas con 'Cafeteria': 7\n",
      "Total de filas con 'Fish': 47\n",
      "Total de filas con 'Seafood': 756\n",
      "Total de filas con 'Creperies': 30\n",
      "Total de filas con 'Juice Bars & Smoothies': 95\n",
      "Total de filas con 'Donuts': 48\n",
      "Total de filas con 'Hawaiian': 39\n",
      "Total de filas con 'Mexican': 2352\n",
      "Total de filas con 'Grocery': 147\n",
      "Total de filas con 'Cuban': 61\n",
      "Total de filas con 'Sushi': 159\n",
      "Total de filas con 'Afghan': 12\n",
      "Total de filas con 'British': 6\n",
      "Total de filas con 'Cheese': 46\n",
      "Total de filas con 'Middle Eastern': 1179\n"
     ]
    }
   ],
   "source": [
    "for keyword, category in keyword_category_mapping.items():\n",
    "    keyword_mask = df['categories'].str.contains(keyword, case=False)\n",
    "    total_keyword_rows = keyword_mask.sum()\n",
    "    print(f\"Total de filas con '{keyword}': {total_keyword_rows}\")\n",
    "    df.loc[keyword_mask, 'categories'] = category"
   ]
  },
  {
   "cell_type": "markdown",
   "id": "bfa7d44f",
   "metadata": {},
   "source": [
    "### Eliminacion Columnas "
   ]
  },
  {
   "cell_type": "code",
   "execution_count": 91,
   "id": "ae8c22fc",
   "metadata": {},
   "outputs": [
    {
     "name": "stderr",
     "output_type": "stream",
     "text": [
      "/tmp/ipykernel_22421/3072124205.py:1: SettingWithCopyWarning: \n",
      "A value is trying to be set on a copy of a slice from a DataFrame\n",
      "\n",
      "See the caveats in the documentation: https://pandas.pydata.org/pandas-docs/stable/user_guide/indexing.html#returning-a-view-versus-a-copy\n",
      "  df.drop('is_open', axis=1, inplace=True)\n"
     ]
    }
   ],
   "source": [
    "df.drop('is_open', axis=1, inplace=True)"
   ]
  },
  {
   "cell_type": "markdown",
   "id": "ce6c2ffd",
   "metadata": {},
   "source": [
    "### Transformaciones"
   ]
  },
  {
   "cell_type": "code",
   "execution_count": 102,
   "id": "03a8d7c0",
   "metadata": {},
   "outputs": [
    {
     "data": {
      "text/plain": [
       "0        {'Friday': '7:0-21:0', 'Monday': '7:0-20:0', '...\n",
       "1        {'Friday': '9:0-0:0', 'Monday': '0:0-0:0', 'Sa...\n",
       "2                                                     None\n",
       "3        {'Friday': '6:0-16:0', 'Monday': '0:0-0:0', 'S...\n",
       "4        {'Friday': '11:0-14:0', 'Monday': '11:0-14:0',...\n",
       "                               ...                        \n",
       "57717    {'Friday': '0:0-0:0', 'Monday': '0:0-0:0', 'Sa...\n",
       "57718    {'Friday': '0:0-0:0', 'Monday': '0:0-0:0', 'Sa...\n",
       "57719    {'Friday': '11:0-2:0', 'Monday': '11:0-22:0', ...\n",
       "57720    {'Friday': '0:0-0:0', 'Monday': '0:0-0:0', 'Sa...\n",
       "57721    {'Friday': '11:0-22:0', 'Monday': '11:0-22:0',...\n",
       "Name: hours, Length: 57722, dtype: object"
      ]
     },
     "execution_count": 102,
     "metadata": {},
     "output_type": "execute_result"
    }
   ],
   "source": [
    "df['hours']"
   ]
  },
  {
   "cell_type": "code",
   "execution_count": 103,
   "id": "83003690",
   "metadata": {},
   "outputs": [
    {
     "data": {
      "text/plain": [
       "0            <class 'dict'>\n",
       "1            <class 'dict'>\n",
       "2        <class 'NoneType'>\n",
       "3            <class 'dict'>\n",
       "4            <class 'dict'>\n",
       "                ...        \n",
       "57717        <class 'dict'>\n",
       "57718        <class 'dict'>\n",
       "57719        <class 'dict'>\n",
       "57720        <class 'dict'>\n",
       "57721        <class 'dict'>\n",
       "Name: hours, Length: 57722, dtype: object"
      ]
     },
     "execution_count": 103,
     "metadata": {},
     "output_type": "execute_result"
    }
   ],
   "source": [
    "data_types = df['hours'].map(type)\n",
    "data_types"
   ]
  },
  {
   "cell_type": "code",
   "execution_count": 106,
   "id": "e6d18f7f",
   "metadata": {},
   "outputs": [],
   "source": [
    "df['day'] = None\n",
    "df['hour'] = None\n",
    "\n",
    "for index, row in df.iterrows():\n",
    "    if isinstance(row['hours'], dict):\n",
    "        days = []\n",
    "        hours = []\n",
    "        for day, hour in row['hours'].items():\n",
    "            days.append(day)\n",
    "            hours.append(hour if hour is not None else '')  \n",
    "        \n",
    "        df.at[index, 'day'] = ', '.join(days)\n",
    "        df.at[index, 'hour'] = ', '.join(hours)"
   ]
  },
  {
   "cell_type": "code",
   "execution_count": 108,
   "id": "a1ff8ef5",
   "metadata": {},
   "outputs": [],
   "source": [
    "df.drop('hours', axis=1, inplace=True)"
   ]
  },
  {
   "cell_type": "code",
   "execution_count": 118,
   "id": "13b0738c",
   "metadata": {},
   "outputs": [
    {
     "data": {
      "text/plain": [
       "0        {'AcceptsInsurance': None, 'AgesAllowed': None...\n",
       "1        {'AcceptsInsurance': None, 'AgesAllowed': None...\n",
       "2        {'AcceptsInsurance': None, 'AgesAllowed': None...\n",
       "3        {'AcceptsInsurance': None, 'AgesAllowed': None...\n",
       "4        {'AcceptsInsurance': None, 'AgesAllowed': None...\n",
       "                               ...                        \n",
       "57717    {'AcceptsInsurance': None, 'AgesAllowed': None...\n",
       "57718    {'AcceptsInsurance': None, 'AgesAllowed': None...\n",
       "57719    {'AcceptsInsurance': None, 'AgesAllowed': None...\n",
       "57720    {'AcceptsInsurance': None, 'AgesAllowed': None...\n",
       "57721    {'AcceptsInsurance': None, 'AgesAllowed': None...\n",
       "Name: attributes, Length: 57722, dtype: object"
      ]
     },
     "execution_count": 118,
     "metadata": {},
     "output_type": "execute_result"
    }
   ],
   "source": [
    "df['attributes']"
   ]
  },
  {
   "cell_type": "code",
   "execution_count": 119,
   "id": "a96b3844",
   "metadata": {},
   "outputs": [
    {
     "data": {
      "text/plain": [
       "0        <class 'dict'>\n",
       "1        <class 'dict'>\n",
       "2        <class 'dict'>\n",
       "3        <class 'dict'>\n",
       "4        <class 'dict'>\n",
       "              ...      \n",
       "57717    <class 'dict'>\n",
       "57718    <class 'dict'>\n",
       "57719    <class 'dict'>\n",
       "57720    <class 'dict'>\n",
       "57721    <class 'dict'>\n",
       "Name: attributes, Length: 57722, dtype: object"
      ]
     },
     "execution_count": 119,
     "metadata": {},
     "output_type": "execute_result"
    }
   ],
   "source": [
    "data_types = df['attributes'].map(type)\n",
    "data_types"
   ]
  },
  {
   "cell_type": "code",
   "execution_count": 123,
   "id": "3617e982",
   "metadata": {},
   "outputs": [],
   "source": [
    "df['attribute'] = None\n",
    "\n",
    "for index, row in df.iterrows():\n",
    "    if isinstance(row['attributes'], dict):\n",
    "        attributes_text = []\n",
    "        for key, value in row['attributes'].items():\n",
    "            if value is not None:\n",
    "                attributes_text.append(f\"{key}: {value}\")\n",
    "            else:\n",
    "                attributes_text.append(key)\n",
    "        \n",
    "        df.at[index, 'attribute'] = ', '.join(attributes_text)"
   ]
  },
  {
   "cell_type": "code",
   "execution_count": 135,
   "id": "5818671b",
   "metadata": {},
   "outputs": [],
   "source": [
    "def split_text(text):\n",
    "    if isinstance(text, str): \n",
    "        return re.sub(r'([a-z])([A-Z])', r'\\1 \\2', text)\n",
    "    else:\n",
    "        return text\n",
    "\n",
    "df['attribute'] = df['attribute'].apply(split_text)"
   ]
  },
  {
   "cell_type": "code",
   "execution_count": 125,
   "id": "2aac6c77",
   "metadata": {},
   "outputs": [],
   "source": [
    "df.drop('attributes', axis=1, inplace=True)"
   ]
  },
  {
   "cell_type": "code",
   "execution_count": 130,
   "id": "ca8bad2f",
   "metadata": {},
   "outputs": [],
   "source": [
    "column_order = ['business_id', 'name', 'address','city','states','postal_code','latitude','longitude','stars','review_count','attribute','categories','day','hour']\n",
    "df = df.reindex(columns=column_order)"
   ]
  },
  {
   "cell_type": "code",
   "execution_count": 155,
   "id": "68e55949",
   "metadata": {},
   "outputs": [
    {
     "data": {
      "text/plain": [
       "0        -75.155564\n",
       "1        -87.058943\n",
       "2        -90.321087\n",
       "3        -86.768170\n",
       "4        -82.456320\n",
       "            ...    \n",
       "57717   -116.284689\n",
       "57718   -111.093308\n",
       "57719    -75.158665\n",
       "57720    -75.427725\n",
       "57721   -113.675999\n",
       "Name: longitude, Length: 57722, dtype: float64"
      ]
     },
     "execution_count": 155,
     "metadata": {},
     "output_type": "execute_result"
    }
   ],
   "source": [
    "df['longitude']"
   ]
  },
  {
   "cell_type": "code",
   "execution_count": 157,
   "id": "89f038cd",
   "metadata": {},
   "outputs": [],
   "source": [
    "df['longitude'] = df['longitude'].astype(str)\n",
    "\n",
    "df['latitude'] = df['latitude'].astype(str)"
   ]
  },
  {
   "cell_type": "code",
   "execution_count": 158,
   "id": "ff13f209",
   "metadata": {},
   "outputs": [
    {
     "data": {
      "text/plain": [
       "business_id        0\n",
       "name               0\n",
       "address            0\n",
       "city               0\n",
       "states             0\n",
       "postal_code        0\n",
       "latitude           0\n",
       "longitude          0\n",
       "stars              0\n",
       "review_count       0\n",
       "attribute       2125\n",
       "categories         0\n",
       "day             8476\n",
       "hour            8476\n",
       "dtype: int64"
      ]
     },
     "execution_count": 158,
     "metadata": {},
     "output_type": "execute_result"
    }
   ],
   "source": [
    "df.isnull().sum()"
   ]
  },
  {
   "cell_type": "code",
   "execution_count": 169,
   "id": "c5a461fa",
   "metadata": {},
   "outputs": [
    {
     "data": {
      "text/html": [
       "<div>\n",
       "<style scoped>\n",
       "    .dataframe tbody tr th:only-of-type {\n",
       "        vertical-align: middle;\n",
       "    }\n",
       "\n",
       "    .dataframe tbody tr th {\n",
       "        vertical-align: top;\n",
       "    }\n",
       "\n",
       "    .dataframe thead th {\n",
       "        text-align: right;\n",
       "    }\n",
       "</style>\n",
       "<table border=\"1\" class=\"dataframe\">\n",
       "  <thead>\n",
       "    <tr style=\"text-align: right;\">\n",
       "      <th></th>\n",
       "      <th>business_id</th>\n",
       "      <th>name</th>\n",
       "      <th>address</th>\n",
       "      <th>city</th>\n",
       "      <th>states</th>\n",
       "      <th>postal_code</th>\n",
       "      <th>latitude</th>\n",
       "      <th>longitude</th>\n",
       "      <th>stars</th>\n",
       "      <th>review_count</th>\n",
       "      <th>attribute</th>\n",
       "      <th>categories</th>\n",
       "      <th>day</th>\n",
       "      <th>hour</th>\n",
       "    </tr>\n",
       "  </thead>\n",
       "  <tbody>\n",
       "    <tr>\n",
       "      <th>8808</th>\n",
       "      <td>oipTcwrQb6jQy0VrqpFumQ</td>\n",
       "      <td>Seoul Garden</td>\n",
       "      <td>10441 Olive Blvd</td>\n",
       "      <td>Creve Coeur</td>\n",
       "      <td>Missouri</td>\n",
       "      <td>63141</td>\n",
       "      <td>38.674089</td>\n",
       "      <td>-90.410002</td>\n",
       "      <td>3.0</td>\n",
       "      <td>125</td>\n",
       "      <td>Accepts Insurance, Ages Allowed, Alcohol: 'bee...</td>\n",
       "      <td>Restaurant Breakfast &amp; Brunch American</td>\n",
       "      <td>Friday, Monday, Saturday, Sunday, Thursday, Tu...</td>\n",
       "      <td>12:0-19:0, 11:0-21:0, 11:0-21:0, 12:0-21:0, 11...</td>\n",
       "    </tr>\n",
       "    <tr>\n",
       "      <th>54372</th>\n",
       "      <td>r6MBlUIS8_U1JINh8HJZTw</td>\n",
       "      <td>Ciao Pizza &amp; Pasta</td>\n",
       "      <td>3218 Kirkwood Hwy</td>\n",
       "      <td>Wilmington</td>\n",
       "      <td>Delaware</td>\n",
       "      <td>19808</td>\n",
       "      <td>39.736062746900004</td>\n",
       "      <td>-75.6242229672</td>\n",
       "      <td>3.5</td>\n",
       "      <td>23</td>\n",
       "      <td>Accepts Insurance, Ages Allowed, Alcohol: 'non...</td>\n",
       "      <td>Restaurant Pizza Fast Food</td>\n",
       "      <td>Friday, Monday, Saturday, Sunday, Thursday, Tu...</td>\n",
       "      <td>11:0-21:0, 11:0-17:0, 11:0-21:0, 12:0-18:0, 11...</td>\n",
       "    </tr>\n",
       "    <tr>\n",
       "      <th>55651</th>\n",
       "      <td>W1aLlzTpnF6ue27JDTiTtw</td>\n",
       "      <td>Los Arroyos</td>\n",
       "      <td>11503 Springmill Rd, Ste 100</td>\n",
       "      <td>Carmel</td>\n",
       "      <td>Indiana</td>\n",
       "      <td>46032</td>\n",
       "      <td>39.954837</td>\n",
       "      <td>-86.164557</td>\n",
       "      <td>4.0</td>\n",
       "      <td>227</td>\n",
       "      <td>Accepts Insurance, Ages Allowed, Alcohol: u'fu...</td>\n",
       "      <td>Restaurant Breakfast &amp; Brunch American</td>\n",
       "      <td>Friday, Monday, Saturday, Sunday, Thursday, Tu...</td>\n",
       "      <td>11:0-22:0, 0:0-0:0, 11:0-22:0, 11:0-15:0, 11:0...</td>\n",
       "    </tr>\n",
       "    <tr>\n",
       "      <th>40030</th>\n",
       "      <td>RF2SocELaoYkXnZhxRcX0g</td>\n",
       "      <td>Gallagher's Restaurant</td>\n",
       "      <td>114 W Mill St</td>\n",
       "      <td>Waterloo</td>\n",
       "      <td>Illinois</td>\n",
       "      <td>62298</td>\n",
       "      <td>38.3358432</td>\n",
       "      <td>-90.1511628</td>\n",
       "      <td>4.0</td>\n",
       "      <td>162</td>\n",
       "      <td>Accepts Insurance, Ages Allowed, Alcohol: u'fu...</td>\n",
       "      <td>Restaurant Breakfast &amp; Brunch American</td>\n",
       "      <td>Friday, Monday, Saturday, Sunday, Thursday, Tu...</td>\n",
       "      <td>11:0-22:0, , 11:0-22:0, 11:30-19:0, 11:0-21:0,...</td>\n",
       "    </tr>\n",
       "    <tr>\n",
       "      <th>56767</th>\n",
       "      <td>UzRMlnXQKlWa16_spVHHXw</td>\n",
       "      <td>Joselito's Carnes Asadas</td>\n",
       "      <td>927 Bell Rd</td>\n",
       "      <td>Nashville</td>\n",
       "      <td>Tennessee</td>\n",
       "      <td>37013</td>\n",
       "      <td>36.0494217586</td>\n",
       "      <td>-86.651636131</td>\n",
       "      <td>3.5</td>\n",
       "      <td>10</td>\n",
       "      <td>Accepts Insurance, Ages Allowed, Alcohol: u'fu...</td>\n",
       "      <td>Restaurant Mexican</td>\n",
       "      <td>None</td>\n",
       "      <td>None</td>\n",
       "    </tr>\n",
       "  </tbody>\n",
       "</table>\n",
       "</div>"
      ],
      "text/plain": [
       "                  business_id                      name  \\\n",
       "8808   oipTcwrQb6jQy0VrqpFumQ              Seoul Garden   \n",
       "54372  r6MBlUIS8_U1JINh8HJZTw        Ciao Pizza & Pasta   \n",
       "55651  W1aLlzTpnF6ue27JDTiTtw               Los Arroyos   \n",
       "40030  RF2SocELaoYkXnZhxRcX0g    Gallagher's Restaurant   \n",
       "56767  UzRMlnXQKlWa16_spVHHXw  Joselito's Carnes Asadas   \n",
       "\n",
       "                            address         city     states postal_code  \\\n",
       "8808               10441 Olive Blvd  Creve Coeur   Missouri       63141   \n",
       "54372             3218 Kirkwood Hwy   Wilmington   Delaware       19808   \n",
       "55651  11503 Springmill Rd, Ste 100       Carmel    Indiana       46032   \n",
       "40030                 114 W Mill St     Waterloo   Illinois       62298   \n",
       "56767                   927 Bell Rd    Nashville  Tennessee       37013   \n",
       "\n",
       "                 latitude       longitude  stars  review_count  \\\n",
       "8808            38.674089      -90.410002    3.0           125   \n",
       "54372  39.736062746900004  -75.6242229672    3.5            23   \n",
       "55651           39.954837      -86.164557    4.0           227   \n",
       "40030          38.3358432     -90.1511628    4.0           162   \n",
       "56767       36.0494217586   -86.651636131    3.5            10   \n",
       "\n",
       "                                               attribute  \\\n",
       "8808   Accepts Insurance, Ages Allowed, Alcohol: 'bee...   \n",
       "54372  Accepts Insurance, Ages Allowed, Alcohol: 'non...   \n",
       "55651  Accepts Insurance, Ages Allowed, Alcohol: u'fu...   \n",
       "40030  Accepts Insurance, Ages Allowed, Alcohol: u'fu...   \n",
       "56767  Accepts Insurance, Ages Allowed, Alcohol: u'fu...   \n",
       "\n",
       "                                   categories  \\\n",
       "8808   Restaurant Breakfast & Brunch American   \n",
       "54372              Restaurant Pizza Fast Food   \n",
       "55651  Restaurant Breakfast & Brunch American   \n",
       "40030  Restaurant Breakfast & Brunch American   \n",
       "56767                      Restaurant Mexican   \n",
       "\n",
       "                                                     day  \\\n",
       "8808   Friday, Monday, Saturday, Sunday, Thursday, Tu...   \n",
       "54372  Friday, Monday, Saturday, Sunday, Thursday, Tu...   \n",
       "55651  Friday, Monday, Saturday, Sunday, Thursday, Tu...   \n",
       "40030  Friday, Monday, Saturday, Sunday, Thursday, Tu...   \n",
       "56767                                               None   \n",
       "\n",
       "                                                    hour  \n",
       "8808   12:0-19:0, 11:0-21:0, 11:0-21:0, 12:0-21:0, 11...  \n",
       "54372  11:0-21:0, 11:0-17:0, 11:0-21:0, 12:0-18:0, 11...  \n",
       "55651  11:0-22:0, 0:0-0:0, 11:0-22:0, 11:0-15:0, 11:0...  \n",
       "40030  11:0-22:0, , 11:0-22:0, 11:30-19:0, 11:0-21:0,...  \n",
       "56767                                               None  "
      ]
     },
     "execution_count": 169,
     "metadata": {},
     "output_type": "execute_result"
    }
   ],
   "source": [
    "df.sample(5)"
   ]
  },
  {
   "cell_type": "code",
   "execution_count": 168,
   "id": "c93a99c5",
   "metadata": {},
   "outputs": [
    {
     "name": "stdout",
     "output_type": "stream",
     "text": [
      "<class 'pandas.core.frame.DataFrame'>\n",
      "RangeIndex: 57722 entries, 0 to 57721\n",
      "Data columns (total 14 columns):\n",
      " #   Column        Non-Null Count  Dtype  \n",
      "---  ------        --------------  -----  \n",
      " 0   business_id   57722 non-null  object \n",
      " 1   name          57722 non-null  object \n",
      " 2   address       57722 non-null  object \n",
      " 3   city          57722 non-null  object \n",
      " 4   states        57722 non-null  object \n",
      " 5   postal_code   57722 non-null  object \n",
      " 6   latitude      57722 non-null  object \n",
      " 7   longitude     57722 non-null  object \n",
      " 8   stars         57722 non-null  float64\n",
      " 9   review_count  57722 non-null  int64  \n",
      " 10  attribute     55597 non-null  object \n",
      " 11  categories    57722 non-null  object \n",
      " 12  day           49246 non-null  object \n",
      " 13  hour          49246 non-null  object \n",
      "dtypes: float64(1), int64(1), object(12)\n",
      "memory usage: 6.2+ MB\n"
     ]
    }
   ],
   "source": [
    "df.info()"
   ]
  },
  {
   "cell_type": "code",
   "execution_count": 167,
   "id": "998e8e1f",
   "metadata": {},
   "outputs": [],
   "source": [
    "df.to_parquet('business.parquet',index=False)"
   ]
  }
 ],
 "metadata": {
  "environment": {
   "kernel": "conda-root-py",
   "name": "workbench-notebooks.m115",
   "type": "gcloud",
   "uri": "gcr.io/deeplearning-platform-release/workbench-notebooks:m115"
  },
  "kernelspec": {
   "display_name": "Python 3",
   "language": "python",
   "name": "python3"
  },
  "language_info": {
   "codemirror_mode": {
    "name": "ipython",
    "version": 3
   },
   "file_extension": ".py",
   "mimetype": "text/x-python",
   "name": "python",
   "nbconvert_exporter": "python",
   "pygments_lexer": "ipython3",
   "version": "3.10.12"
  }
 },
 "nbformat": 4,
 "nbformat_minor": 5
}
